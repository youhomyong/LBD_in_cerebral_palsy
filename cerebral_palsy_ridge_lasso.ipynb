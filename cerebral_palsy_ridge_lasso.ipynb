{
 "cells": [
  {
   "cell_type": "code",
   "execution_count": null,
   "id": "incorrect-walnut",
   "metadata": {},
   "outputs": [],
   "source": [
    "### Ridge, Lasso"
   ]
  },
  {
   "cell_type": "code",
   "execution_count": 1,
   "id": "unable-spanking",
   "metadata": {},
   "outputs": [],
   "source": [
    "import numpy as np\n",
    "import pandas as pd\n",
    "import matplotlib.pyplot as plt\n",
    "from sklearn.metrics import roc_auc_score\n",
    "from sklearn.model_selection import train_test_split\n",
    "from sklearn.linear_model import RidgeCV, LassoCV, ElasticNetCV"
   ]
  },
  {
   "cell_type": "code",
   "execution_count": 15,
   "id": "sealed-terrorist",
   "metadata": {},
   "outputs": [],
   "source": [
    "SEED = 2021 # random seed #\n",
    "num_CV = 5  # number of crossvalidation #\n",
    "test_size = 0.3 # test set ratio #\n",
    "\n",
    "df1 = pd.read_csv(\"/home/youho/data/cerebral_palsy/cleaned_data/cp_data_final.csv\")\n",
    "X = df1.iloc[:, 0:-1]\n",
    "y = df1.iloc[:, -1]\n",
    "\n",
    "X_train, X_test, y_train, y_test = train_test_split(X, y, test_size=test_size, stratify = y, random_state=SEED)\n",
    "\n",
    "alphas = np.logspace(-3, 3, 13)"
   ]
  },
  {
   "cell_type": "code",
   "execution_count": 20,
   "id": "reported-shanghai",
   "metadata": {},
   "outputs": [
    {
     "name": "stdout",
     "output_type": "stream",
     "text": [
      "########################### RIDGE CV \n",
      "Number of crossvalidation:  5\n",
      "Alpha 1000.0\n",
      "Number of features used:  25\n",
      "\n",
      "Coeffs: [ 2.18525876e-03  2.50566449e-04 -6.43046623e-04  1.01414436e-03\n",
      "  8.05760118e-04  1.87290192e-03  7.18441473e-04  3.58691354e-04\n",
      "  2.96435845e-03 -1.65721692e-04 -8.68267021e-04 -1.25212300e-03\n",
      " -3.82169270e-05  1.10607187e-03 -2.57546917e-03 -5.81884040e-04\n",
      " -2.90920464e-04  4.31314279e-03  6.64081448e-04  1.79288501e-03\n",
      "  1.96302193e-03 -5.37565686e-05  1.17047302e-03  5.61829799e-05\n",
      " -1.56825108e-02]\n",
      "\n",
      "Training data: Area under the ROC curve = 0.9196428571428572\n",
      "\n",
      "Test data: Area under the ROC curve = 0.71\n"
     ]
    }
   ],
   "source": [
    "### RIDGE ###\n",
    "   \n",
    "ridge = RidgeCV(alphas = alphas, cv = num_CV)\n",
    "ridge.fit(X_train, y_train)\n",
    "\n",
    "ridge_preds_train = ridge.predict(X_train)\n",
    "ridge_preds_test = ridge.predict(X_test)\n",
    "\n",
    "coeff_used = np.sum(ridge.coef_!=0)\n",
    "print (\"########################### RIDGE CV \")\n",
    "print (\"Number of crossvalidation: \", num_CV)\n",
    "print (\"Alpha\", ridge.alpha_)\n",
    "print (\"Number of features used: \", coeff_used)\n",
    "print (\"\\nCoeffs:\", ridge.coef_)\n",
    "\n",
    "ridge_performance_train = roc_auc_score(y_train, ridge_preds_train)\n",
    "print ('\\nTraining data: Area under the ROC curve = {}'.format(ridge_performance_train))\n",
    "\n",
    "ridge_performance_test = roc_auc_score(y_test, ridge_preds_test)\n",
    "print ('\\nTest data: Area under the ROC curve = {}'.format(ridge_performance_test))"
   ]
  },
  {
   "cell_type": "code",
   "execution_count": 21,
   "id": "exposed-imagination",
   "metadata": {},
   "outputs": [
    {
     "name": "stdout",
     "output_type": "stream",
     "text": [
      "###################### LASSO CV \n",
      "Number of crossvalidation:  5\n",
      "Alpha 10.0\n",
      "Number of features used:  1\n",
      "\n",
      "Coeffs: [ 0.00000000e+00  0.00000000e+00 -0.00000000e+00  0.00000000e+00\n",
      " -0.00000000e+00 -0.00000000e+00  0.00000000e+00  0.00000000e+00\n",
      "  0.00000000e+00 -0.00000000e+00 -0.00000000e+00 -0.00000000e+00\n",
      " -0.00000000e+00  0.00000000e+00 -0.00000000e+00 -0.00000000e+00\n",
      "  0.00000000e+00  0.00000000e+00  0.00000000e+00 -0.00000000e+00\n",
      "  0.00000000e+00 -6.29216775e-05 -0.00000000e+00  0.00000000e+00\n",
      " -0.00000000e+00]\n",
      "\n",
      "Training data: Area under the ROC curve = 0.7982142857142857\n",
      "\n",
      "Test data: Area under the ROC curve = 0.49\n"
     ]
    },
    {
     "name": "stderr",
     "output_type": "stream",
     "text": [
      "/home/youho/.local/lib/python3.6/site-packages/sklearn/linear_model/_coordinate_descent.py:528: ConvergenceWarning: Objective did not converge. You might want to increase the number of iterations. Duality gap: 0.7394409680573972, tolerance: 0.0008076923076923079\n",
      "  tol, rng, random, positive)\n",
      "/home/youho/.local/lib/python3.6/site-packages/sklearn/linear_model/_coordinate_descent.py:528: ConvergenceWarning: Objective did not converge. You might want to increase the number of iterations. Duality gap: 0.8788360023246089, tolerance: 0.0008076923076923079\n",
      "  tol, rng, random, positive)\n",
      "/home/youho/.local/lib/python3.6/site-packages/sklearn/linear_model/_coordinate_descent.py:528: ConvergenceWarning: Objective did not converge. You might want to increase the number of iterations. Duality gap: 0.8614328079789261, tolerance: 0.0008076923076923079\n",
      "  tol, rng, random, positive)\n",
      "/home/youho/.local/lib/python3.6/site-packages/sklearn/linear_model/_coordinate_descent.py:528: ConvergenceWarning: Objective did not converge. You might want to increase the number of iterations. Duality gap: 0.2173254720982314, tolerance: 0.000679245283018868\n",
      "  tol, rng, random, positive)\n",
      "/home/youho/.local/lib/python3.6/site-packages/sklearn/linear_model/_coordinate_descent.py:528: ConvergenceWarning: Objective did not converge. You might want to increase the number of iterations. Duality gap: 0.6773240021938955, tolerance: 0.000679245283018868\n",
      "  tol, rng, random, positive)\n",
      "/home/youho/.local/lib/python3.6/site-packages/sklearn/linear_model/_coordinate_descent.py:528: ConvergenceWarning: Objective did not converge. You might want to increase the number of iterations. Duality gap: 0.7363869928607654, tolerance: 0.000679245283018868\n",
      "  tol, rng, random, positive)\n",
      "/home/youho/.local/lib/python3.6/site-packages/sklearn/linear_model/_coordinate_descent.py:528: ConvergenceWarning: Objective did not converge. You might want to increase the number of iterations. Duality gap: 0.074780891392634, tolerance: 0.0006075471698113208\n",
      "  tol, rng, random, positive)\n",
      "/home/youho/.local/lib/python3.6/site-packages/sklearn/linear_model/_coordinate_descent.py:528: ConvergenceWarning: Objective did not converge. You might want to increase the number of iterations. Duality gap: 0.4966988365514322, tolerance: 0.0006075471698113208\n",
      "  tol, rng, random, positive)\n",
      "/home/youho/.local/lib/python3.6/site-packages/sklearn/linear_model/_coordinate_descent.py:528: ConvergenceWarning: Objective did not converge. You might want to increase the number of iterations. Duality gap: 0.7142240394810807, tolerance: 0.0006075471698113208\n",
      "  tol, rng, random, positive)\n",
      "/home/youho/.local/lib/python3.6/site-packages/sklearn/linear_model/_coordinate_descent.py:528: ConvergenceWarning: Objective did not converge. You might want to increase the number of iterations. Duality gap: 0.2739539753997353, tolerance: 0.0007471698113207549\n",
      "  tol, rng, random, positive)\n",
      "/home/youho/.local/lib/python3.6/site-packages/sklearn/linear_model/_coordinate_descent.py:528: ConvergenceWarning: Objective did not converge. You might want to increase the number of iterations. Duality gap: 0.18119135959335475, tolerance: 0.0007471698113207549\n",
      "  tol, rng, random, positive)\n",
      "/home/youho/.local/lib/python3.6/site-packages/sklearn/linear_model/_coordinate_descent.py:528: ConvergenceWarning: Objective did not converge. You might want to increase the number of iterations. Duality gap: 0.005644079628184251, tolerance: 0.0007471698113207549\n",
      "  tol, rng, random, positive)\n"
     ]
    }
   ],
   "source": [
    "### LASSO ###\n",
    "   \n",
    "lasso = LassoCV(alphas = alphas, cv = num_CV, random_state=SEED)\n",
    "lasso.fit(X_train, y_train)\n",
    "\n",
    "lasso_preds_train = lasso.predict(X_train)\n",
    "lasso_preds_test = lasso.predict(X_test)\n",
    "\n",
    "coeff_used = np.sum(lasso.coef_!=0)\n",
    "print (\"###################### LASSO CV \")\n",
    "print (\"Number of crossvalidation: \", num_CV)\n",
    "print (\"Alpha\", lasso.alpha_)\n",
    "print (\"Number of features used: \", coeff_used)\n",
    "print (\"\\nCoeffs:\", lasso.coef_)\n",
    "\n",
    "lasso_performance_train = roc_auc_score(y_train, lasso_preds_train)\n",
    "print ('\\nTraining data: Area under the ROC curve = {}'.format(lasso_performance_train))\n",
    "\n",
    "lasso_performance_test = roc_auc_score(y_test, lasso_preds_test)\n",
    "print ('\\nTest data: Area under the ROC curve = {}'.format(lasso_performance_test))"
   ]
  },
  {
   "cell_type": "code",
   "execution_count": null,
   "id": "referenced-family",
   "metadata": {},
   "outputs": [],
   "source": []
  }
 ],
 "metadata": {
  "kernelspec": {
   "display_name": "Python 3",
   "language": "python",
   "name": "python3"
  },
  "language_info": {
   "codemirror_mode": {
    "name": "ipython",
    "version": 3
   },
   "file_extension": ".py",
   "mimetype": "text/x-python",
   "name": "python",
   "nbconvert_exporter": "python",
   "pygments_lexer": "ipython3",
   "version": "3.6.9"
  }
 },
 "nbformat": 4,
 "nbformat_minor": 5
}
