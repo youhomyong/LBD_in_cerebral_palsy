{
 "cells": [
  {
   "cell_type": "code",
   "execution_count": 45,
   "id": "italic-compilation",
   "metadata": {},
   "outputs": [],
   "source": [
    "import numpy as np\n",
    "import pandas as pd\n",
    "import seaborn as sns\n",
    "from matplotlib import pyplot as plt\n",
    "%matplotlib inline\n",
    "\n",
    "from sklearn import model_selection\n",
    "from sklearn.model_selection import train_test_split\n",
    "from sklearn.model_selection import GridSearchCV\n",
    "\n",
    "from sklearn import metrics \n",
    "from sklearn import utils\n",
    "\n",
    "from sklearn.tree import export_graphviz\n",
    "from six import StringIO  \n",
    "from IPython.display import Image  \n",
    "import pydotplus\n",
    "\n",
    "from sklearn.metrics import plot_roc_curve\n",
    "from sklearn.metrics import plot_confusion_matrix\n",
    "from sklearn.metrics import classification_report\n",
    "from sklearn.metrics import average_precision_score\n",
    "from sklearn.metrics import mean_squared_error\n",
    "from sklearn.metrics import matthews_corrcoef\n",
    "\n",
    "from sklearn.ensemble import RandomForestClassifier\n",
    "from sklearn.ensemble import AdaBoostClassifier\n",
    "from sklearn.ensemble import BaggingClassifier\n",
    "from sklearn.tree import DecisionTreeClassifier\n",
    "from sklearn.naive_bayes import GaussianNB\n",
    "from sklearn import svm\n",
    "from sklearn.svm import SVC\n",
    "from sklearn.neighbors import KNeighborsClassifier\n",
    "import xgboost as xgb"
   ]
  },
  {
   "cell_type": "code",
   "execution_count": 46,
   "id": "final-market",
   "metadata": {},
   "outputs": [],
   "source": [
    "data = pd.read_csv('/home/youho/cp/cleaned_data/cp_data_final_adasyn.csv')"
   ]
  },
  {
   "cell_type": "code",
   "execution_count": 47,
   "id": "caroline-pizza",
   "metadata": {},
   "outputs": [],
   "source": [
    "# Designate categorical variables\n",
    "data['sex'] = data.sex.astype('category')\n",
    "data['dm'] = data.dm.astype('category')\n",
    "data['htn'] = data.htn.astype('category')\n",
    "data['smoke'] = data.smoke.astype('category')\n",
    "data['gmfcs'] = data.gmfcs.astype('category')\n",
    "data['cp_type'] = data.cp_type.astype('category')\n",
    "data['dysphagia'] = data.dysphagia.astype('category')\n",
    "data['low_bone_density'] = data.low_bone_density.astype('category')"
   ]
  },
  {
   "cell_type": "code",
   "execution_count": 48,
   "id": "operational-travel",
   "metadata": {},
   "outputs": [
    {
     "name": "stdout",
     "output_type": "stream",
     "text": [
      "Unnamed: 0                int64\n",
      "age                     float64\n",
      "sex                    category\n",
      "dm                     category\n",
      "htn                    category\n",
      "height                  float64\n",
      "weight                  float64\n",
      "bmi                     float64\n",
      "waist_circumference     float64\n",
      "smoke                  category\n",
      "gmfcs                  category\n",
      "cp_type                category\n",
      "dysphagia              category\n",
      "bun                     float64\n",
      "cr                      float64\n",
      "gfr                     float64\n",
      "chol                    float64\n",
      "alp                     float64\n",
      "got                     float64\n",
      "gpt                     float64\n",
      "tg                      float64\n",
      "hdl                     float64\n",
      "ldl                     float64\n",
      "wbc                     float64\n",
      "hb                      float64\n",
      "plt                     float64\n",
      "max_grip                float64\n",
      "low_bone_density       category\n",
      "dtype: object\n"
     ]
    }
   ],
   "source": [
    "print(data.dtypes)"
   ]
  },
  {
   "cell_type": "code",
   "execution_count": 49,
   "id": "noted-socket",
   "metadata": {},
   "outputs": [
    {
     "data": {
      "text/plain": [
       "(121, 28)"
      ]
     },
     "execution_count": 49,
     "metadata": {},
     "output_type": "execute_result"
    }
   ],
   "source": [
    "data.shape"
   ]
  },
  {
   "cell_type": "code",
   "execution_count": 50,
   "id": "distinct-aquarium",
   "metadata": {},
   "outputs": [
    {
     "data": {
      "text/html": [
       "<div>\n",
       "<style scoped>\n",
       "    .dataframe tbody tr th:only-of-type {\n",
       "        vertical-align: middle;\n",
       "    }\n",
       "\n",
       "    .dataframe tbody tr th {\n",
       "        vertical-align: top;\n",
       "    }\n",
       "\n",
       "    .dataframe thead th {\n",
       "        text-align: right;\n",
       "    }\n",
       "</style>\n",
       "<table border=\"1\" class=\"dataframe\">\n",
       "  <thead>\n",
       "    <tr style=\"text-align: right;\">\n",
       "      <th></th>\n",
       "      <th>Unnamed: 0</th>\n",
       "      <th>age</th>\n",
       "      <th>sex</th>\n",
       "      <th>dm</th>\n",
       "      <th>htn</th>\n",
       "      <th>height</th>\n",
       "      <th>weight</th>\n",
       "      <th>bmi</th>\n",
       "      <th>waist_circumference</th>\n",
       "      <th>smoke</th>\n",
       "      <th>...</th>\n",
       "      <th>got</th>\n",
       "      <th>gpt</th>\n",
       "      <th>tg</th>\n",
       "      <th>hdl</th>\n",
       "      <th>ldl</th>\n",
       "      <th>wbc</th>\n",
       "      <th>hb</th>\n",
       "      <th>plt</th>\n",
       "      <th>max_grip</th>\n",
       "      <th>low_bone_density</th>\n",
       "    </tr>\n",
       "  </thead>\n",
       "  <tbody>\n",
       "    <tr>\n",
       "      <th>0</th>\n",
       "      <td>0</td>\n",
       "      <td>44.0</td>\n",
       "      <td>1.0</td>\n",
       "      <td>0.0</td>\n",
       "      <td>0.0</td>\n",
       "      <td>130.0</td>\n",
       "      <td>59.6</td>\n",
       "      <td>35.266272</td>\n",
       "      <td>91.0</td>\n",
       "      <td>1.0</td>\n",
       "      <td>...</td>\n",
       "      <td>64.0</td>\n",
       "      <td>46.0</td>\n",
       "      <td>250.0</td>\n",
       "      <td>31.0</td>\n",
       "      <td>52.0</td>\n",
       "      <td>5550.0</td>\n",
       "      <td>14.2</td>\n",
       "      <td>212.0</td>\n",
       "      <td>6.803880</td>\n",
       "      <td>1.0</td>\n",
       "    </tr>\n",
       "    <tr>\n",
       "      <th>1</th>\n",
       "      <td>1</td>\n",
       "      <td>38.0</td>\n",
       "      <td>1.0</td>\n",
       "      <td>0.0</td>\n",
       "      <td>0.0</td>\n",
       "      <td>172.0</td>\n",
       "      <td>47.6</td>\n",
       "      <td>16.089778</td>\n",
       "      <td>73.0</td>\n",
       "      <td>1.0</td>\n",
       "      <td>...</td>\n",
       "      <td>15.0</td>\n",
       "      <td>15.0</td>\n",
       "      <td>141.0</td>\n",
       "      <td>40.0</td>\n",
       "      <td>115.0</td>\n",
       "      <td>6770.0</td>\n",
       "      <td>14.3</td>\n",
       "      <td>230.0</td>\n",
       "      <td>18.370476</td>\n",
       "      <td>0.0</td>\n",
       "    </tr>\n",
       "    <tr>\n",
       "      <th>2</th>\n",
       "      <td>2</td>\n",
       "      <td>37.0</td>\n",
       "      <td>1.0</td>\n",
       "      <td>0.0</td>\n",
       "      <td>0.0</td>\n",
       "      <td>169.1</td>\n",
       "      <td>48.6</td>\n",
       "      <td>16.996091</td>\n",
       "      <td>63.5</td>\n",
       "      <td>0.0</td>\n",
       "      <td>...</td>\n",
       "      <td>28.0</td>\n",
       "      <td>16.0</td>\n",
       "      <td>92.0</td>\n",
       "      <td>56.0</td>\n",
       "      <td>87.0</td>\n",
       "      <td>5920.0</td>\n",
       "      <td>14.1</td>\n",
       "      <td>249.0</td>\n",
       "      <td>29.392762</td>\n",
       "      <td>0.0</td>\n",
       "    </tr>\n",
       "    <tr>\n",
       "      <th>3</th>\n",
       "      <td>3</td>\n",
       "      <td>33.0</td>\n",
       "      <td>1.0</td>\n",
       "      <td>0.0</td>\n",
       "      <td>0.0</td>\n",
       "      <td>173.0</td>\n",
       "      <td>55.0</td>\n",
       "      <td>18.376825</td>\n",
       "      <td>67.0</td>\n",
       "      <td>1.0</td>\n",
       "      <td>...</td>\n",
       "      <td>17.0</td>\n",
       "      <td>14.0</td>\n",
       "      <td>104.0</td>\n",
       "      <td>54.0</td>\n",
       "      <td>98.0</td>\n",
       "      <td>4700.0</td>\n",
       "      <td>16.1</td>\n",
       "      <td>273.0</td>\n",
       "      <td>20.411640</td>\n",
       "      <td>0.0</td>\n",
       "    </tr>\n",
       "    <tr>\n",
       "      <th>4</th>\n",
       "      <td>4</td>\n",
       "      <td>35.0</td>\n",
       "      <td>1.0</td>\n",
       "      <td>0.0</td>\n",
       "      <td>0.0</td>\n",
       "      <td>168.0</td>\n",
       "      <td>58.0</td>\n",
       "      <td>20.549887</td>\n",
       "      <td>74.5</td>\n",
       "      <td>1.0</td>\n",
       "      <td>...</td>\n",
       "      <td>26.0</td>\n",
       "      <td>23.0</td>\n",
       "      <td>446.0</td>\n",
       "      <td>35.0</td>\n",
       "      <td>61.0</td>\n",
       "      <td>6460.0</td>\n",
       "      <td>16.1</td>\n",
       "      <td>266.0</td>\n",
       "      <td>29.483480</td>\n",
       "      <td>0.0</td>\n",
       "    </tr>\n",
       "  </tbody>\n",
       "</table>\n",
       "<p>5 rows × 28 columns</p>\n",
       "</div>"
      ],
      "text/plain": [
       "   Unnamed: 0   age  sex   dm  htn  height  weight        bmi  \\\n",
       "0           0  44.0  1.0  0.0  0.0   130.0    59.6  35.266272   \n",
       "1           1  38.0  1.0  0.0  0.0   172.0    47.6  16.089778   \n",
       "2           2  37.0  1.0  0.0  0.0   169.1    48.6  16.996091   \n",
       "3           3  33.0  1.0  0.0  0.0   173.0    55.0  18.376825   \n",
       "4           4  35.0  1.0  0.0  0.0   168.0    58.0  20.549887   \n",
       "\n",
       "   waist_circumference smoke  ...   got   gpt     tg   hdl    ldl     wbc  \\\n",
       "0                 91.0   1.0  ...  64.0  46.0  250.0  31.0   52.0  5550.0   \n",
       "1                 73.0   1.0  ...  15.0  15.0  141.0  40.0  115.0  6770.0   \n",
       "2                 63.5   0.0  ...  28.0  16.0   92.0  56.0   87.0  5920.0   \n",
       "3                 67.0   1.0  ...  17.0  14.0  104.0  54.0   98.0  4700.0   \n",
       "4                 74.5   1.0  ...  26.0  23.0  446.0  35.0   61.0  6460.0   \n",
       "\n",
       "     hb    plt   max_grip  low_bone_density  \n",
       "0  14.2  212.0   6.803880               1.0  \n",
       "1  14.3  230.0  18.370476               0.0  \n",
       "2  14.1  249.0  29.392762               0.0  \n",
       "3  16.1  273.0  20.411640               0.0  \n",
       "4  16.1  266.0  29.483480               0.0  \n",
       "\n",
       "[5 rows x 28 columns]"
      ]
     },
     "execution_count": 50,
     "metadata": {},
     "output_type": "execute_result"
    }
   ],
   "source": [
    "data.head()"
   ]
  },
  {
   "cell_type": "code",
   "execution_count": 51,
   "id": "wicked-beverage",
   "metadata": {},
   "outputs": [],
   "source": [
    "feature_cols = ['gmfcs', 'waist_circumference', 'cp_type', 'gfr', 'max_grip']\n",
    "target_cols = ['low_bone_density']"
   ]
  },
  {
   "cell_type": "code",
   "execution_count": 52,
   "id": "pointed-tactics",
   "metadata": {
    "scrolled": true
   },
   "outputs": [],
   "source": [
    "#split dataset in features and target variable\n",
    "\n",
    "# X = data.iloc[:,:25] # Features\n",
    "# y = data.iloc[:, 25:] # Target variable\n",
    "\n",
    "X = data[feature_cols] # Features\n",
    "y = data[target_cols] # Target variable"
   ]
  },
  {
   "cell_type": "code",
   "execution_count": 53,
   "id": "falling-probe",
   "metadata": {},
   "outputs": [],
   "source": [
    "# from imblearn.over_sampling import SMOTE\n",
    "# from collections import Counter\n",
    "# from matplotlib import pyplot\n",
    "\n",
    "# X_resampled, y_resampled = SMOTE(random_state=0).fit_resample(X, y)"
   ]
  },
  {
   "cell_type": "code",
   "execution_count": 54,
   "id": "solar-antique",
   "metadata": {},
   "outputs": [],
   "source": [
    "# Split dataset into training set and test set\n",
    "X_train, X_test, y_train, y_test = train_test_split(X, y, test_size=0.3, stratify = y, random_state=1) # 70% training and 30% test"
   ]
  },
  {
   "cell_type": "code",
   "execution_count": 55,
   "id": "sixth-capital",
   "metadata": {},
   "outputs": [
    {
     "name": "stdout",
     "output_type": "stream",
     "text": [
      "Decision Trees\n",
      "Accuracy: 0.8378378378378378\n",
      "F1 score: 0.7272727272727272\n",
      "AUROC: 0.8949999999999999\n",
      "MCC: 0.6184009646551497\n",
      "              precision    recall  f1-score   support\n",
      "\n",
      "         0.0       0.85      0.92      0.88        25\n",
      "         1.0       0.80      0.67      0.73        12\n",
      "\n",
      "    accuracy                           0.84        37\n",
      "   macro avg       0.83      0.79      0.81        37\n",
      "weighted avg       0.84      0.84      0.83        37\n",
      "\n"
     ]
    },
    {
     "data": {
      "image/png": "[encoded data removed]",
      "text/plain": [
       "<Figure size 432x288 with 2 Axes>"
      ]
     },
     "metadata": {
      "needs_background": "light"
     },
     "output_type": "display_data"
    },
    {
     "data": {
      "image/png": "[encoded data removed]",
      "text/plain": [
       "<Figure size 432x288 with 1 Axes>"
      ]
     },
     "metadata": {
      "needs_background": "light"
     },
     "output_type": "display_data"
    }
   ],
   "source": [
    "# Decision Tree Classifier\n",
    "print(\"Decision Trees\")\n",
    "\n",
    "# Define and fit Decision Tree Classifier\n",
    "DT_clf = DecisionTreeClassifier(criterion = 'entropy', max_depth = 4)\n",
    "DT_clf.fit(X_train,y_train)\n",
    "\n",
    "#Predict the response for test dataset\n",
    "y_pred = DT_clf.predict(X_test)\n",
    "\n",
    "# calculate accuracy\n",
    "print(\"Accuracy:\",metrics.accuracy_score(y_test.values.ravel(), y_pred))\n",
    "\n",
    "# calculate F1 score\n",
    "f1 = metrics.f1_score(y_test.values.ravel(), y_pred)\n",
    "print(\"F1 score:\", f1)\n",
    "\n",
    "# calculate AUROC\n",
    "y_score = DT_clf.predict_proba(X_test)[:,1]\n",
    "auroc = metrics.roc_auc_score(y_test.values.ravel(), y_score)\n",
    "print(\"AUROC:\", auroc)\n",
    "\n",
    "# calculate Matthews Correlation Coefficient (MCC)\n",
    "mcc = metrics.matthews_corrcoef(y_test.values.ravel(), y_pred)\n",
    "print(\"MCC:\", mcc)\n",
    "\n",
    "# Classification Report\n",
    "classification_report = metrics.classification_report(y_test.values.ravel(), y_pred, labels=None, target_names=None, sample_weight=None, digits=2, output_dict=False, zero_division='warn')\n",
    "print(classification_report)\n",
    "\n",
    "# plot confusion matrix\n",
    "DT_cm = metrics.plot_confusion_matrix(DT_clf, X_test, y_test.values.ravel())\n",
    "plt.show(DT_cm)\n",
    "\n",
    "# Plot ROC\n",
    "ax = plt.gca()\n",
    "DT_disp = plot_roc_curve(DT_clf, X_test, y_test.values.ravel(), ax=ax)\n",
    "plt.show()"
   ]
  },
  {
   "cell_type": "code",
   "execution_count": 56,
   "id": "accepted-adams",
   "metadata": {},
   "outputs": [
    {
     "name": "stdout",
     "output_type": "stream",
     "text": [
      "K Nearest Neighbors\n",
      "Accuracy: 0.8378378378378378\n",
      "F1 score: 0.7272727272727272\n",
      "AUROC: 0.8716666666666666\n",
      "MCC: 0.6184009646551497\n",
      "              precision    recall  f1-score   support\n",
      "\n",
      "         0.0       0.85      0.92      0.88        25\n",
      "         1.0       0.80      0.67      0.73        12\n",
      "\n",
      "    accuracy                           0.84        37\n",
      "   macro avg       0.83      0.79      0.81        37\n",
      "weighted avg       0.84      0.84      0.83        37\n",
      "\n"
     ]
    },
    {
     "name": "stderr",
     "output_type": "stream",
     "text": [
      "/home/youho/.local/lib/python3.6/site-packages/sklearn/neighbors/_classification.py:179: DataConversionWarning: A column-vector y was passed when a 1d array was expected. Please change the shape of y to (n_samples,), for example using ravel().\n",
      "  return self._fit(X, y)\n"
     ]
    },
    {
     "data": {
      "image/png": "[encoded data removed]",
      "text/plain": [
       "<Figure size 432x288 with 2 Axes>"
      ]
     },
     "metadata": {
      "needs_background": "light"
     },
     "output_type": "display_data"
    },
    {
     "data": {
      "image/png": "[encoded data removed]",
      "text/plain": [
       "<Figure size 432x288 with 1 Axes>"
      ]
     },
     "metadata": {
      "needs_background": "light"
     },
     "output_type": "display_data"
    }
   ],
   "source": [
    "# K Nearest Neighbors\n",
    "print(\"K Nearest Neighbors\")\n",
    "\n",
    "# Define and fit KNN Classifier\n",
    "KNN_clf = KNeighborsClassifier(n_neighbors = 5, metric = 'minkowski', leaf_size = 30)\n",
    "KNN_clf.fit(X_train,y_train)\n",
    "\n",
    "y_pred = KNN_clf.predict(X_test)\n",
    "\n",
    "# calculate accuracy\n",
    "print(\"Accuracy:\",metrics.accuracy_score(y_test.values.ravel(), y_pred))\n",
    "\n",
    "# calculate F1 score\n",
    "f1 = metrics.f1_score(y_test.values.ravel(), y_pred)\n",
    "print(\"F1 score:\", f1)\n",
    "\n",
    "# calculate AUROC\n",
    "y_score = KNN_clf.predict_proba(X_test)[:,1]\n",
    "auroc = metrics.roc_auc_score(y_test.values.ravel(), y_score)\n",
    "print(\"AUROC:\", auroc)\n",
    "\n",
    "# calculate Matthews Correlation Coefficient (MCC)\n",
    "mcc = metrics.matthews_corrcoef(y_test.values.ravel(), y_pred)\n",
    "print(\"MCC:\", mcc)\n",
    "\n",
    "# Classification Report\n",
    "classification_report = metrics.classification_report(y_test.values.ravel(), y_pred, labels=None, target_names=None, sample_weight=None, digits=2, output_dict=False, zero_division='warn')\n",
    "print(classification_report)\n",
    "\n",
    "# plot confusion matrix\n",
    "KNN_cm = metrics.plot_confusion_matrix(KNN_clf, X_test, y_test.values.ravel())\n",
    "plt.show(KNN_cm)\n",
    "\n",
    "# Plot ROC\n",
    "ax = plt.gca()\n",
    "KNN_disp = plot_roc_curve(KNN_clf, X_test, y_test.values.ravel(), ax=ax)\n",
    "plt.show()"
   ]
  },
  {
   "cell_type": "code",
   "execution_count": 57,
   "id": "sticky-cowboy",
   "metadata": {},
   "outputs": [
    {
     "name": "stdout",
     "output_type": "stream",
     "text": [
      "Naive Bayes\n",
      "Cross validation score:  0.7606666666666666\n",
      "Accuracy: 0.7567567567567568\n",
      "F1 score: 0.6666666666666665\n",
      "AUROC: 0.9099999999999999\n",
      "MCC: 0.4862659205152521\n",
      "              precision    recall  f1-score   support\n",
      "\n",
      "         0.0       0.86      0.76      0.81        25\n",
      "         1.0       0.60      0.75      0.67        12\n",
      "\n",
      "    accuracy                           0.76        37\n",
      "   macro avg       0.73      0.76      0.74        37\n",
      "weighted avg       0.78      0.76      0.76        37\n",
      "\n"
     ]
    },
    {
     "name": "stderr",
     "output_type": "stream",
     "text": [
      "/home/youho/.local/lib/python3.6/site-packages/sklearn/utils/validation.py:63: DataConversionWarning: A column-vector y was passed when a 1d array was expected. Please change the shape of y to (n_samples, ), for example using ravel().\n",
      "  return f(*args, **kwargs)\n"
     ]
    },
    {
     "data": {
      "image/png": "[encoded data removed]",
      "text/plain": [
       "<Figure size 432x288 with 2 Axes>"
      ]
     },
     "metadata": {
      "needs_background": "light"
     },
     "output_type": "display_data"
    },
    {
     "data": {
      "image/png": "[encoded data removed]",
      "text/plain": [
       "<Figure size 432x288 with 1 Axes>"
      ]
     },
     "metadata": {
      "needs_background": "light"
     },
     "output_type": "display_data"
    }
   ],
   "source": [
    "# Naive Bayes classification\n",
    "kfold = model_selection.KFold(n_splits=5)\n",
    "\n",
    "# Print Classifier name\n",
    "print(\"Naive Bayes\")\n",
    "\n",
    "# Define and fit Naive Bayes Classifier\n",
    "NB_clf = GaussianNB()\n",
    "NB_clf.fit(X_train, y_train)\n",
    "y_pred = NB_clf.predict(X_test)\n",
    "\n",
    "# Cross Validation\n",
    "results = model_selection.cross_val_score(NB_clf, X, y.values.ravel(), cv=kfold)\n",
    "print(\"Cross validation score: \", results.mean())\n",
    "\n",
    "NB_clf.fit(X_train, y_train.values.ravel())\n",
    "y_pred = NB_clf.predict(X_test)\n",
    "\n",
    "# calculate accuracy\n",
    "print(\"Accuracy:\",metrics.accuracy_score(y_test.values.ravel(), y_pred))\n",
    "\n",
    "# calculate F1 score\n",
    "f1 = metrics.f1_score(y_test.values.ravel(), y_pred)\n",
    "print(\"F1 score:\", f1)\n",
    "\n",
    "# calculate AUROC\n",
    "y_score = NB_clf.predict_proba(X_test)[:,1]\n",
    "auroc = metrics.roc_auc_score(y_test.values.ravel(), y_score)\n",
    "print(\"AUROC:\", auroc)\n",
    "\n",
    "# calculate Matthews Correlation Coefficient (MCC)\n",
    "mcc = metrics.matthews_corrcoef(y_test.values.ravel(), y_pred)\n",
    "print(\"MCC:\", mcc)\n",
    "\n",
    "# Classification Report\n",
    "classification_report = metrics.classification_report(y_test.values.ravel(), y_pred, labels=None, target_names=None, sample_weight=None, digits=2, output_dict=False, zero_division='warn')\n",
    "print(classification_report)\n",
    "\n",
    "# plot confusion matrix\n",
    "NB_cm = metrics.plot_confusion_matrix(NB_clf, X_test, y_test.values.ravel())\n",
    "plt.show(NB_cm)\n",
    "\n",
    "# Plot ROC\n",
    "ax = plt.gca()\n",
    "NB_disp = plot_roc_curve(NB_clf, X_test, y_test.values.ravel(), ax=ax)\n",
    "plt.show()"
   ]
  },
  {
   "cell_type": "code",
   "execution_count": 58,
   "id": "absent-study",
   "metadata": {},
   "outputs": [
    {
     "name": "stdout",
     "output_type": "stream",
     "text": [
      "Random Forest\n",
      "Cross validation score:  0.7593333333333334\n",
      "Accuracy: 0.8648648648648649\n",
      "F1 score: 0.7826086956521738\n",
      "AUROC: 0.96\n",
      "MCC: 0.6862026857089135\n",
      "              precision    recall  f1-score   support\n",
      "\n",
      "         0.0       0.88      0.92      0.90        25\n",
      "         1.0       0.82      0.75      0.78        12\n",
      "\n",
      "    accuracy                           0.86        37\n",
      "   macro avg       0.85      0.83      0.84        37\n",
      "weighted avg       0.86      0.86      0.86        37\n",
      "\n"
     ]
    },
    {
     "data": {
      "image/png": "[encoded data removed]",
      "text/plain": [
       "<Figure size 432x288 with 2 Axes>"
      ]
     },
     "metadata": {
      "needs_background": "light"
     },
     "output_type": "display_data"
    },
    {
     "data": {
      "image/png": "[encoded data removed]",
      "text/plain": [
       "<Figure size 432x288 with 1 Axes>"
      ]
     },
     "metadata": {
      "needs_background": "light"
     },
     "output_type": "display_data"
    }
   ],
   "source": [
    "# Random Forest\n",
    "\n",
    "kfold = model_selection.KFold(n_splits=5)\n",
    "\n",
    "# Define  and fit Random Forest Classifier\n",
    "RF_clf=RandomForestClassifier(n_estimators=5000)\n",
    "RF_clf.fit(X_train, y_train.values.ravel())\n",
    "y_pred=RF_clf.predict(X_test)\n",
    "\n",
    "# Print Classifier name\n",
    "print(\"Random Forest\")\n",
    "\n",
    "# Cross Validation\n",
    "results = model_selection.cross_val_score(RF_clf, X, y.values.ravel(), cv=kfold)\n",
    "print(\"Cross validation score: \", results.mean())\n",
    "\n",
    "RF_clf.fit(X_train, y_train.values.ravel())\n",
    "y_pred = RF_clf.predict(X_test)\n",
    "\n",
    "# calculate accuracy\n",
    "print(\"Accuracy:\",metrics.accuracy_score(y_test.values.ravel(), y_pred))\n",
    "\n",
    "# calculate F1 score\n",
    "f1 = metrics.f1_score(y_test.values.ravel(), y_pred)\n",
    "print(\"F1 score:\", f1)\n",
    "\n",
    "# calculate AUROC\n",
    "y_score = RF_clf.predict_proba(X_test)[:,1]\n",
    "auroc = metrics.roc_auc_score(y_test.values.ravel(), y_score)\n",
    "print(\"AUROC:\", auroc)\n",
    "\n",
    "# calculate Matthews Correlation Coefficient (MCC)\n",
    "mcc = metrics.matthews_corrcoef(y_test.values.ravel(), y_pred)\n",
    "print(\"MCC:\", mcc)\n",
    "\n",
    "# Classification Report\n",
    "classification_report = metrics.classification_report(y_test.values.ravel(), y_pred, labels=None, target_names=None, sample_weight=None, digits=2, output_dict=False, zero_division='warn')\n",
    "print(classification_report)\n",
    "\n",
    "# plot confusion matrix\n",
    "RF_cm = metrics.plot_confusion_matrix(RF_clf, X_test, y_test.values.ravel())\n",
    "plt.show(RF_cm)\n",
    "\n",
    "# Plot ROC\n",
    "ax = plt.gca()\n",
    "RF_disp = plot_roc_curve(RF_clf, X_test, y_test.values.ravel(), ax=ax)\n",
    "plt.show()"
   ]
  },
  {
   "cell_type": "code",
   "execution_count": 59,
   "id": "shaped-speaker",
   "metadata": {},
   "outputs": [
    {
     "name": "stdout",
     "output_type": "stream",
     "text": [
      "Bagging\n",
      "Cross validation score:  0.8099906629318393\n",
      "Accuracy: 0.8378378378378378\n",
      "F1 score: 0.7272727272727272\n",
      "AUROC: 0.9483333333333334\n",
      "MCC: 0.6184009646551497\n",
      "              precision    recall  f1-score   support\n",
      "\n",
      "         0.0       0.85      0.92      0.88        25\n",
      "         1.0       0.80      0.67      0.73        12\n",
      "\n",
      "    accuracy                           0.84        37\n",
      "   macro avg       0.83      0.79      0.81        37\n",
      "weighted avg       0.84      0.84      0.83        37\n",
      "\n"
     ]
    },
    {
     "data": {
      "image/png": "[encoded data removed]",
      "text/plain": [
       "<Figure size 432x288 with 2 Axes>"
      ]
     },
     "metadata": {
      "needs_background": "light"
     },
     "output_type": "display_data"
    },
    {
     "data": {
      "image/png": "[encoded data removed]",
      "text/plain": [
       "<Figure size 432x288 with 1 Axes>"
      ]
     },
     "metadata": {
      "needs_background": "light"
     },
     "output_type": "display_data"
    }
   ],
   "source": [
    "# Bagging Decision Trees \n",
    "\n",
    "kfold = model_selection.KFold(n_splits=7)\n",
    "cart = DecisionTreeClassifier()\n",
    "num_trees = 5000\n",
    "\n",
    "# Define and fit Bagging Classifier\n",
    "bagging_clf = BaggingClassifier(base_estimator=cart, n_estimators=num_trees, random_state=7)\n",
    "bagging_clf.fit(X_train, y_train.values.ravel())\n",
    "y_pred = bagging_clf.predict(X_test)\n",
    "\n",
    "# Print Classifier name\n",
    "print(\"Bagging\")\n",
    "\n",
    "# Cross Validation\n",
    "results = model_selection.cross_val_score(bagging_clf, X, y.values.ravel(), cv=kfold)\n",
    "print(\"Cross validation score: \", results.mean())\n",
    "\n",
    "# calculate accuracy\n",
    "print(\"Accuracy:\",metrics.accuracy_score(y_test.values.ravel(), y_pred))\n",
    "\n",
    "# calculate F1 score\n",
    "f1 = metrics.f1_score(y_test.values.ravel(), y_pred)\n",
    "print(\"F1 score:\", f1)\n",
    "\n",
    "# calculate AUROC\n",
    "y_score = bagging_clf.predict_proba(X_test)[:,1]\n",
    "auroc = metrics.roc_auc_score(y_test.values.ravel(), y_score)\n",
    "print(\"AUROC:\", auroc)\n",
    "\n",
    "# calculate Matthews Correlation Coefficient (MCC)\n",
    "mcc = metrics.matthews_corrcoef(y_test.values.ravel(), y_pred)\n",
    "print(\"MCC:\", mcc)\n",
    "\n",
    "# Classification Report\n",
    "classification_report = metrics.classification_report(y_test.values.ravel(), y_pred, labels=None, target_names=None, sample_weight=None, digits=2, output_dict=False, zero_division='warn')\n",
    "print(classification_report)\n",
    "\n",
    "# plot confusion matrix\n",
    "bagging_cm = metrics.plot_confusion_matrix(bagging_clf, X_test, y_test.values.ravel())\n",
    "plt.show(bagging_cm)\n",
    "\n",
    "# Plot ROC\n",
    "ax = plt.gca()\n",
    "bagging_disp = plot_roc_curve(bagging_clf, X_test, y_test.values.ravel(), ax=ax)\n",
    "plt.show()"
   ]
  },
  {
   "cell_type": "code",
   "execution_count": 60,
   "id": "duplicate-mattress",
   "metadata": {},
   "outputs": [
    {
     "name": "stdout",
     "output_type": "stream",
     "text": [
      "AdaBoost\n",
      "Cross validation score:  0.7263333333333334\n",
      "Accuracy: 0.8648648648648649\n",
      "F1 score: 0.8\n",
      "AUROC: 0.8866666666666667\n",
      "MCC: 0.6994808819928564\n",
      "              precision    recall  f1-score   support\n",
      "\n",
      "         0.0       0.92      0.88      0.90        25\n",
      "         1.0       0.77      0.83      0.80        12\n",
      "\n",
      "    accuracy                           0.86        37\n",
      "   macro avg       0.84      0.86      0.85        37\n",
      "weighted avg       0.87      0.86      0.87        37\n",
      "\n"
     ]
    },
    {
     "data": {
      "image/png": "[encoded data removed]",
      "text/plain": [
       "<Figure size 432x288 with 2 Axes>"
      ]
     },
     "metadata": {
      "needs_background": "light"
     },
     "output_type": "display_data"
    },
    {
     "data": {
      "image/png": "[encoded data removed]",
      "text/plain": [
       "<Figure size 432x288 with 1 Axes>"
      ]
     },
     "metadata": {
      "needs_background": "light"
     },
     "output_type": "display_data"
    }
   ],
   "source": [
    "# AdaBoost Classification\n",
    "seed = 7\n",
    "num_trees = 350\n",
    "kfold = model_selection.KFold(n_splits=5)\n",
    "\n",
    "# Define and fit AdaBoost Classifier\n",
    "ada_clf = AdaBoostClassifier(n_estimators=num_trees, random_state=seed)\n",
    "ada_clf.fit(X_train, y_train.values.ravel())\n",
    "y_pred = ada_clf.predict(X_test)\n",
    "\n",
    "# Print Classifier name\n",
    "print(\"AdaBoost\")\n",
    "\n",
    "# Cross Validation\n",
    "results = model_selection.cross_val_score(ada_clf, X, y.values.ravel(), cv=kfold)\n",
    "print(\"Cross validation score: \", results.mean())\n",
    "\n",
    "# calculate accuracy\n",
    "print(\"Accuracy:\",metrics.accuracy_score(y_test.values.ravel(), y_pred))\n",
    "\n",
    "# calculate F1 score\n",
    "f1 = metrics.f1_score(y_test.values.ravel(), y_pred)\n",
    "print(\"F1 score:\", f1)\n",
    "\n",
    "# calculate AUROC\n",
    "y_score = ada_clf.predict_proba(X_test)[:,1]\n",
    "auroc = metrics.roc_auc_score(y_test.values.ravel(), y_score)\n",
    "print(\"AUROC:\", auroc)\n",
    "\n",
    "# calculate Matthews Correlation Coefficient (MCC)\n",
    "mcc = metrics.matthews_corrcoef(y_test.values.ravel(), y_pred)\n",
    "print(\"MCC:\", mcc)\n",
    "\n",
    "# Classification Report\n",
    "classification_report = metrics.classification_report(y_test.values.ravel(), y_pred, labels=None, target_names=None, sample_weight=None, digits=2, output_dict=False, zero_division='warn')\n",
    "print(classification_report)\n",
    "\n",
    "# plot confusion matrix\n",
    "ada_cm = metrics.plot_confusion_matrix(ada_clf, X_test, y_test.values.ravel())\n",
    "plt.show(ada_cm)\n",
    "\n",
    "# Plot ROC\n",
    "ax = plt.gca()\n",
    "ada_disp = plot_roc_curve(ada_clf, X_test, y_test.values.ravel(), ax=ax)\n",
    "plt.show()"
   ]
  },
  {
   "cell_type": "code",
   "execution_count": 61,
   "id": "atmospheric-perth",
   "metadata": {},
   "outputs": [
    {
     "data": {
      "image/png": "[encoded data removed]",
      "text/plain": [
       "<Figure size 432x288 with 1 Axes>"
      ]
     },
     "metadata": {
      "needs_background": "light"
     },
     "output_type": "display_data"
    }
   ],
   "source": [
    "ax = plt.gca()\n",
    "\n",
    "x = np.linspace(0, 1, 100)\n",
    "y = x\n",
    "\n",
    "plt.plot(x, y, alpha=0.8)\n",
    "\n",
    "KNN_disp.plot(ax=ax, alpha=0.8)\n",
    "RF_disp.plot(ax=ax, alpha=0.8)\n",
    "bagging_disp.plot(ax=ax, alpha=0.8)\n",
    "ada_disp.plot(ax=ax, alpha=0.8)\n",
    "DT_disp.plot(ax=ax, alpha=0.8)\n",
    "NB_disp.plot(ax=ax, alpha=0.8)\n",
    "plt.show()"
   ]
  },
  {
   "cell_type": "code",
   "execution_count": 21,
   "id": "suburban-future",
   "metadata": {},
   "outputs": [
    {
     "name": "stdout",
     "output_type": "stream",
     "text": [
      "Voting Ensemble\n",
      "Accuracy: 0.9655172413793104\n",
      "F1 score: 0.8571428571428571\n",
      "AUROC: 0.875\n",
      "              precision    recall  f1-score   support\n",
      "\n",
      "           0       0.96      1.00      0.98        25\n",
      "           1       1.00      0.75      0.86         4\n",
      "\n",
      "    accuracy                           0.97        29\n",
      "   macro avg       0.98      0.88      0.92        29\n",
      "weighted avg       0.97      0.97      0.96        29\n",
      "\n"
     ]
    },
    {
     "name": "stderr",
     "output_type": "stream",
     "text": [
      "/home/youho/.local/lib/python3.6/site-packages/sklearn/utils/validation.py:63: DataConversionWarning: A column-vector y was passed when a 1d array was expected. Please change the shape of y to (n_samples, ), for example using ravel().\n",
      "  return f(*args, **kwargs)\n"
     ]
    },
    {
     "ename": "AttributeError",
     "evalue": "predict_proba is not available when  probability=False",
     "output_type": "error",
     "traceback": [
      "\u001b[0;31m---------------------------------------------------------------------------\u001b[0m",
      "\u001b[0;31mAttributeError\u001b[0m                            Traceback (most recent call last)",
      "\u001b[0;32m<ipython-input-21-ba588327ab7d>\u001b[0m in \u001b[0;36m<module>\u001b[0;34m\u001b[0m\n\u001b[1;32m     39\u001b[0m \u001b[0;34m\u001b[0m\u001b[0m\n\u001b[1;32m     40\u001b[0m \u001b[0;31m# plot confusion matrix\u001b[0m\u001b[0;34m\u001b[0m\u001b[0;34m\u001b[0m\u001b[0;34m\u001b[0m\u001b[0m\n\u001b[0;32m---> 41\u001b[0;31m \u001b[0mvoting_cm\u001b[0m \u001b[0;34m=\u001b[0m \u001b[0mmetrics\u001b[0m\u001b[0;34m.\u001b[0m\u001b[0mplot_confusion_matrix\u001b[0m\u001b[0;34m(\u001b[0m\u001b[0mvoting_clf\u001b[0m\u001b[0;34m,\u001b[0m \u001b[0mX_test\u001b[0m\u001b[0;34m,\u001b[0m \u001b[0my_test\u001b[0m\u001b[0;34m.\u001b[0m\u001b[0mvalues\u001b[0m\u001b[0;34m.\u001b[0m\u001b[0mravel\u001b[0m\u001b[0;34m(\u001b[0m\u001b[0;34m)\u001b[0m\u001b[0;34m)\u001b[0m\u001b[0;34m\u001b[0m\u001b[0;34m\u001b[0m\u001b[0m\n\u001b[0m\u001b[1;32m     42\u001b[0m \u001b[0mplt\u001b[0m\u001b[0;34m.\u001b[0m\u001b[0mshow\u001b[0m\u001b[0;34m(\u001b[0m\u001b[0mvoting_cm\u001b[0m\u001b[0;34m)\u001b[0m\u001b[0;34m\u001b[0m\u001b[0;34m\u001b[0m\u001b[0m\n\u001b[1;32m     43\u001b[0m \u001b[0;34m\u001b[0m\u001b[0m\n",
      "\u001b[0;32m~/.local/lib/python3.6/site-packages/sklearn/utils/validation.py\u001b[0m in \u001b[0;36minner_f\u001b[0;34m(*args, **kwargs)\u001b[0m\n\u001b[1;32m     61\u001b[0m             \u001b[0mextra_args\u001b[0m \u001b[0;34m=\u001b[0m \u001b[0mlen\u001b[0m\u001b[0;34m(\u001b[0m\u001b[0margs\u001b[0m\u001b[0;34m)\u001b[0m \u001b[0;34m-\u001b[0m \u001b[0mlen\u001b[0m\u001b[0;34m(\u001b[0m\u001b[0mall_args\u001b[0m\u001b[0;34m)\u001b[0m\u001b[0;34m\u001b[0m\u001b[0;34m\u001b[0m\u001b[0m\n\u001b[1;32m     62\u001b[0m             \u001b[0;32mif\u001b[0m \u001b[0mextra_args\u001b[0m \u001b[0;34m<=\u001b[0m \u001b[0;36m0\u001b[0m\u001b[0;34m:\u001b[0m\u001b[0;34m\u001b[0m\u001b[0;34m\u001b[0m\u001b[0m\n\u001b[0;32m---> 63\u001b[0;31m                 \u001b[0;32mreturn\u001b[0m \u001b[0mf\u001b[0m\u001b[0;34m(\u001b[0m\u001b[0;34m*\u001b[0m\u001b[0margs\u001b[0m\u001b[0;34m,\u001b[0m \u001b[0;34m**\u001b[0m\u001b[0mkwargs\u001b[0m\u001b[0;34m)\u001b[0m\u001b[0;34m\u001b[0m\u001b[0;34m\u001b[0m\u001b[0m\n\u001b[0m\u001b[1;32m     64\u001b[0m \u001b[0;34m\u001b[0m\u001b[0m\n\u001b[1;32m     65\u001b[0m             \u001b[0;31m# extra_args > 0\u001b[0m\u001b[0;34m\u001b[0m\u001b[0;34m\u001b[0m\u001b[0;34m\u001b[0m\u001b[0m\n",
      "\u001b[0;32m~/.local/lib/python3.6/site-packages/sklearn/metrics/_plot/confusion_matrix.py\u001b[0m in \u001b[0;36mplot_confusion_matrix\u001b[0;34m(estimator, X, y_true, labels, sample_weight, normalize, display_labels, include_values, xticks_rotation, values_format, cmap, ax, colorbar)\u001b[0m\n\u001b[1;32m    258\u001b[0m         \u001b[0;32mraise\u001b[0m \u001b[0mValueError\u001b[0m\u001b[0;34m(\u001b[0m\u001b[0;34m\"plot_confusion_matrix only supports classifiers\"\u001b[0m\u001b[0;34m)\u001b[0m\u001b[0;34m\u001b[0m\u001b[0;34m\u001b[0m\u001b[0m\n\u001b[1;32m    259\u001b[0m \u001b[0;34m\u001b[0m\u001b[0m\n\u001b[0;32m--> 260\u001b[0;31m     \u001b[0my_pred\u001b[0m \u001b[0;34m=\u001b[0m \u001b[0mestimator\u001b[0m\u001b[0;34m.\u001b[0m\u001b[0mpredict\u001b[0m\u001b[0;34m(\u001b[0m\u001b[0mX\u001b[0m\u001b[0;34m)\u001b[0m\u001b[0;34m\u001b[0m\u001b[0;34m\u001b[0m\u001b[0m\n\u001b[0m\u001b[1;32m    261\u001b[0m     cm = confusion_matrix(y_true, y_pred, sample_weight=sample_weight,\n\u001b[1;32m    262\u001b[0m                           labels=labels, normalize=normalize)\n",
      "\u001b[0;32m~/.local/lib/python3.6/site-packages/sklearn/ensemble/_voting.py\u001b[0m in \u001b[0;36mpredict\u001b[0;34m(self, X)\u001b[0m\n\u001b[1;32m    307\u001b[0m         \u001b[0mcheck_is_fitted\u001b[0m\u001b[0;34m(\u001b[0m\u001b[0mself\u001b[0m\u001b[0;34m)\u001b[0m\u001b[0;34m\u001b[0m\u001b[0;34m\u001b[0m\u001b[0m\n\u001b[1;32m    308\u001b[0m         \u001b[0;32mif\u001b[0m \u001b[0mself\u001b[0m\u001b[0;34m.\u001b[0m\u001b[0mvoting\u001b[0m \u001b[0;34m==\u001b[0m \u001b[0;34m'soft'\u001b[0m\u001b[0;34m:\u001b[0m\u001b[0;34m\u001b[0m\u001b[0;34m\u001b[0m\u001b[0m\n\u001b[0;32m--> 309\u001b[0;31m             \u001b[0mmaj\u001b[0m \u001b[0;34m=\u001b[0m \u001b[0mnp\u001b[0m\u001b[0;34m.\u001b[0m\u001b[0margmax\u001b[0m\u001b[0;34m(\u001b[0m\u001b[0mself\u001b[0m\u001b[0;34m.\u001b[0m\u001b[0mpredict_proba\u001b[0m\u001b[0;34m(\u001b[0m\u001b[0mX\u001b[0m\u001b[0;34m)\u001b[0m\u001b[0;34m,\u001b[0m \u001b[0maxis\u001b[0m\u001b[0;34m=\u001b[0m\u001b[0;36m1\u001b[0m\u001b[0;34m)\u001b[0m\u001b[0;34m\u001b[0m\u001b[0;34m\u001b[0m\u001b[0m\n\u001b[0m\u001b[1;32m    310\u001b[0m \u001b[0;34m\u001b[0m\u001b[0m\n\u001b[1;32m    311\u001b[0m         \u001b[0;32melse\u001b[0m\u001b[0;34m:\u001b[0m  \u001b[0;31m# 'hard' voting\u001b[0m\u001b[0;34m\u001b[0m\u001b[0;34m\u001b[0m\u001b[0m\n",
      "\u001b[0;32m~/.local/lib/python3.6/site-packages/sklearn/ensemble/_voting.py\u001b[0m in \u001b[0;36m_predict_proba\u001b[0;34m(self, X)\u001b[0m\n\u001b[1;32m    327\u001b[0m         \u001b[0;34m\"\"\"Predict class probabilities for X in 'soft' voting.\"\"\"\u001b[0m\u001b[0;34m\u001b[0m\u001b[0;34m\u001b[0m\u001b[0m\n\u001b[1;32m    328\u001b[0m         \u001b[0mcheck_is_fitted\u001b[0m\u001b[0;34m(\u001b[0m\u001b[0mself\u001b[0m\u001b[0;34m)\u001b[0m\u001b[0;34m\u001b[0m\u001b[0;34m\u001b[0m\u001b[0m\n\u001b[0;32m--> 329\u001b[0;31m         avg = np.average(self._collect_probas(X), axis=0,\n\u001b[0m\u001b[1;32m    330\u001b[0m                          weights=self._weights_not_none)\n\u001b[1;32m    331\u001b[0m         \u001b[0;32mreturn\u001b[0m \u001b[0mavg\u001b[0m\u001b[0;34m\u001b[0m\u001b[0;34m\u001b[0m\u001b[0m\n",
      "\u001b[0;32m~/.local/lib/python3.6/site-packages/sklearn/ensemble/_voting.py\u001b[0m in \u001b[0;36m_collect_probas\u001b[0;34m(self, X)\u001b[0m\n\u001b[1;32m    322\u001b[0m     \u001b[0;32mdef\u001b[0m \u001b[0m_collect_probas\u001b[0m\u001b[0;34m(\u001b[0m\u001b[0mself\u001b[0m\u001b[0;34m,\u001b[0m \u001b[0mX\u001b[0m\u001b[0;34m)\u001b[0m\u001b[0;34m:\u001b[0m\u001b[0;34m\u001b[0m\u001b[0;34m\u001b[0m\u001b[0m\n\u001b[1;32m    323\u001b[0m         \u001b[0;34m\"\"\"Collect results from clf.predict calls.\"\"\"\u001b[0m\u001b[0;34m\u001b[0m\u001b[0;34m\u001b[0m\u001b[0m\n\u001b[0;32m--> 324\u001b[0;31m         \u001b[0;32mreturn\u001b[0m \u001b[0mnp\u001b[0m\u001b[0;34m.\u001b[0m\u001b[0masarray\u001b[0m\u001b[0;34m(\u001b[0m\u001b[0;34m[\u001b[0m\u001b[0mclf\u001b[0m\u001b[0;34m.\u001b[0m\u001b[0mpredict_proba\u001b[0m\u001b[0;34m(\u001b[0m\u001b[0mX\u001b[0m\u001b[0;34m)\u001b[0m \u001b[0;32mfor\u001b[0m \u001b[0mclf\u001b[0m \u001b[0;32min\u001b[0m \u001b[0mself\u001b[0m\u001b[0;34m.\u001b[0m\u001b[0mestimators_\u001b[0m\u001b[0;34m]\u001b[0m\u001b[0;34m)\u001b[0m\u001b[0;34m\u001b[0m\u001b[0;34m\u001b[0m\u001b[0m\n\u001b[0m\u001b[1;32m    325\u001b[0m \u001b[0;34m\u001b[0m\u001b[0m\n\u001b[1;32m    326\u001b[0m     \u001b[0;32mdef\u001b[0m \u001b[0m_predict_proba\u001b[0m\u001b[0;34m(\u001b[0m\u001b[0mself\u001b[0m\u001b[0;34m,\u001b[0m \u001b[0mX\u001b[0m\u001b[0;34m)\u001b[0m\u001b[0;34m:\u001b[0m\u001b[0;34m\u001b[0m\u001b[0;34m\u001b[0m\u001b[0m\n",
      "\u001b[0;32m~/.local/lib/python3.6/site-packages/sklearn/ensemble/_voting.py\u001b[0m in \u001b[0;36m<listcomp>\u001b[0;34m(.0)\u001b[0m\n\u001b[1;32m    322\u001b[0m     \u001b[0;32mdef\u001b[0m \u001b[0m_collect_probas\u001b[0m\u001b[0;34m(\u001b[0m\u001b[0mself\u001b[0m\u001b[0;34m,\u001b[0m \u001b[0mX\u001b[0m\u001b[0;34m)\u001b[0m\u001b[0;34m:\u001b[0m\u001b[0;34m\u001b[0m\u001b[0;34m\u001b[0m\u001b[0m\n\u001b[1;32m    323\u001b[0m         \u001b[0;34m\"\"\"Collect results from clf.predict calls.\"\"\"\u001b[0m\u001b[0;34m\u001b[0m\u001b[0;34m\u001b[0m\u001b[0m\n\u001b[0;32m--> 324\u001b[0;31m         \u001b[0;32mreturn\u001b[0m \u001b[0mnp\u001b[0m\u001b[0;34m.\u001b[0m\u001b[0masarray\u001b[0m\u001b[0;34m(\u001b[0m\u001b[0;34m[\u001b[0m\u001b[0mclf\u001b[0m\u001b[0;34m.\u001b[0m\u001b[0mpredict_proba\u001b[0m\u001b[0;34m(\u001b[0m\u001b[0mX\u001b[0m\u001b[0;34m)\u001b[0m \u001b[0;32mfor\u001b[0m \u001b[0mclf\u001b[0m \u001b[0;32min\u001b[0m \u001b[0mself\u001b[0m\u001b[0;34m.\u001b[0m\u001b[0mestimators_\u001b[0m\u001b[0;34m]\u001b[0m\u001b[0;34m)\u001b[0m\u001b[0;34m\u001b[0m\u001b[0;34m\u001b[0m\u001b[0m\n\u001b[0m\u001b[1;32m    325\u001b[0m \u001b[0;34m\u001b[0m\u001b[0m\n\u001b[1;32m    326\u001b[0m     \u001b[0;32mdef\u001b[0m \u001b[0m_predict_proba\u001b[0m\u001b[0;34m(\u001b[0m\u001b[0mself\u001b[0m\u001b[0;34m,\u001b[0m \u001b[0mX\u001b[0m\u001b[0;34m)\u001b[0m\u001b[0;34m:\u001b[0m\u001b[0;34m\u001b[0m\u001b[0;34m\u001b[0m\u001b[0m\n",
      "\u001b[0;32m~/.local/lib/python3.6/site-packages/sklearn/svm/_base.py\u001b[0m in \u001b[0;36mpredict_proba\u001b[0;34m(self)\u001b[0m\n\u001b[1;32m    664\u001b[0m         \u001b[0mdatasets\u001b[0m\u001b[0;34m.\u001b[0m\u001b[0;34m\u001b[0m\u001b[0;34m\u001b[0m\u001b[0m\n\u001b[1;32m    665\u001b[0m         \"\"\"\n\u001b[0;32m--> 666\u001b[0;31m         \u001b[0mself\u001b[0m\u001b[0;34m.\u001b[0m\u001b[0m_check_proba\u001b[0m\u001b[0;34m(\u001b[0m\u001b[0;34m)\u001b[0m\u001b[0;34m\u001b[0m\u001b[0;34m\u001b[0m\u001b[0m\n\u001b[0m\u001b[1;32m    667\u001b[0m         \u001b[0;32mreturn\u001b[0m \u001b[0mself\u001b[0m\u001b[0;34m.\u001b[0m\u001b[0m_predict_proba\u001b[0m\u001b[0;34m\u001b[0m\u001b[0;34m\u001b[0m\u001b[0m\n\u001b[1;32m    668\u001b[0m \u001b[0;34m\u001b[0m\u001b[0m\n",
      "\u001b[0;32m~/.local/lib/python3.6/site-packages/sklearn/svm/_base.py\u001b[0m in \u001b[0;36m_check_proba\u001b[0;34m(self)\u001b[0m\n\u001b[1;32m    631\u001b[0m     \u001b[0;32mdef\u001b[0m \u001b[0m_check_proba\u001b[0m\u001b[0;34m(\u001b[0m\u001b[0mself\u001b[0m\u001b[0;34m)\u001b[0m\u001b[0;34m:\u001b[0m\u001b[0;34m\u001b[0m\u001b[0;34m\u001b[0m\u001b[0m\n\u001b[1;32m    632\u001b[0m         \u001b[0;32mif\u001b[0m \u001b[0;32mnot\u001b[0m \u001b[0mself\u001b[0m\u001b[0;34m.\u001b[0m\u001b[0mprobability\u001b[0m\u001b[0;34m:\u001b[0m\u001b[0;34m\u001b[0m\u001b[0;34m\u001b[0m\u001b[0m\n\u001b[0;32m--> 633\u001b[0;31m             raise AttributeError(\"predict_proba is not available when \"\n\u001b[0m\u001b[1;32m    634\u001b[0m                                  \" probability=False\")\n\u001b[1;32m    635\u001b[0m         \u001b[0;32mif\u001b[0m \u001b[0mself\u001b[0m\u001b[0;34m.\u001b[0m\u001b[0m_impl\u001b[0m \u001b[0;32mnot\u001b[0m \u001b[0;32min\u001b[0m \u001b[0;34m(\u001b[0m\u001b[0;34m'c_svc'\u001b[0m\u001b[0;34m,\u001b[0m \u001b[0;34m'nu_svc'\u001b[0m\u001b[0;34m)\u001b[0m\u001b[0;34m:\u001b[0m\u001b[0;34m\u001b[0m\u001b[0;34m\u001b[0m\u001b[0m\n",
      "\u001b[0;31mAttributeError\u001b[0m: predict_proba is not available when  probability=False"
     ]
    }
   ],
   "source": [
    "# Voting Ensemble for Classification\n",
    "\n",
    "from sklearn.linear_model import LogisticRegression\n",
    "from sklearn.tree import DecisionTreeClassifier\n",
    "from sklearn.svm import SVC\n",
    "from sklearn.ensemble import VotingClassifier\n",
    "\n",
    "kfold = model_selection.KFold(n_splits=5)\n",
    "# create the sub models\n",
    "estimators = []\n",
    "model1 = LogisticRegression()\n",
    "estimators.append(('logistic', model1))\n",
    "model2 = DecisionTreeClassifier()\n",
    "estimators.append(('cart', model2))\n",
    "model3 = SVC()\n",
    "estimators.append(('svm', model3))\n",
    "# create the ensemble model\n",
    "\n",
    "voting_clf = VotingClassifier(estimators, voting = 'soft')\n",
    "voting_clf.fit(X_train, y_train)\n",
    "\n",
    "# Print Classifier name\n",
    "print(\"Voting Ensemble\")\n",
    "\n",
    "# calculate accuracy\n",
    "print(\"Accuracy:\",metrics.accuracy_score(y_test.values.ravel(), y_pred))\n",
    "\n",
    "# calculate F1 score\n",
    "f1 = metrics.f1_score(y_test.values.ravel(), y_pred)\n",
    "print(\"F1 score:\", f1)\n",
    "\n",
    "# calculate AUROC\n",
    "auroc = metrics.roc_auc_score(y_test.values.ravel(), y_pred)\n",
    "print(\"AUROC:\", auroc)\n",
    "\n",
    "# Classification Report\n",
    "classification_report = metrics.classification_report(y_test.values.ravel(), y_pred, labels=None, target_names=None, sample_weight=None, digits=2, output_dict=False, zero_division='warn')\n",
    "print(classification_report)\n",
    "\n",
    "# plot confusion matrix\n",
    "voting_cm = metrics.plot_confusion_matrix(voting_clf, X_test, y_test.values.ravel())\n",
    "plt.show(voting_cm)\n",
    "\n",
    "# Plot ROC\n",
    "ax = plt.gca()\n",
    "voting_disp = plot_roc_curve(voting_clf, X_test, y_test.values.ravel(), ax=ax)\n",
    "plt.show()"
   ]
  },
  {
   "cell_type": "code",
   "execution_count": null,
   "id": "treated-organization",
   "metadata": {
    "scrolled": true
   },
   "outputs": [],
   "source": []
  },
  {
   "cell_type": "code",
   "execution_count": 247,
   "id": "married-worship",
   "metadata": {},
   "outputs": [
    {
     "name": "stdout",
     "output_type": "stream",
     "text": [
      "AUC: 0.7\n"
     ]
    }
   ],
   "source": []
  },
  {
   "cell_type": "code",
   "execution_count": 229,
   "id": "forbidden-adventure",
   "metadata": {},
   "outputs": [],
   "source": [
    "clf_param_grid = {\n",
    "    'n_estimators' : [10, 50],\n",
    "    'max_depth' : [2, 3, 4, 5],\n",
    "    }"
   ]
  },
  {
   "cell_type": "code",
   "execution_count": 231,
   "id": "velvet-reason",
   "metadata": {},
   "outputs": [
    {
     "name": "stdout",
     "output_type": "stream",
     "text": [
      "Fitting 5 folds for each of 8 candidates, totalling 40 fits\n"
     ]
    },
    {
     "data": {
      "text/plain": [
       "GridSearchCV(estimator=RandomForestClassifier(n_estimators=40), n_jobs=-1,\n",
       "             param_grid={'max_depth': [2, 3, 4, 5], 'n_estimators': [10, 50]},\n",
       "             scoring='accuracy', verbose=1)"
      ]
     },
     "execution_count": 231,
     "metadata": {},
     "output_type": "execute_result"
    }
   ],
   "source": [
    "clf_grid = GridSearchCV(clf, param_grid = clf_param_grid, scoring = 'accuracy', n_jobs = -1, verbose = 1)\n",
    "clf_grid.fit(X_train, y_train.values.ravel())"
   ]
  },
  {
   "cell_type": "code",
   "execution_count": 232,
   "id": "figured-drain",
   "metadata": {},
   "outputs": [],
   "source": [
    "y_pred = clf_grid.predict(X_test)"
   ]
  },
  {
   "cell_type": "code",
   "execution_count": 20,
   "id": "divided-brick",
   "metadata": {},
   "outputs": [
    {
     "name": "stdout",
     "output_type": "stream",
     "text": [
      "Accuracy: 1.0\n",
      "Precision: 1.0\n",
      "Recall: 1.0\n"
     ]
    }
   ],
   "source": [
    "# Model Accuracy, how often is the classifier correct?\n",
    "print(\"Accuracy:\",metrics.accuracy_score(y_test, y_pred))\n",
    "\n",
    "# Model Precision: what percentage of positive tuples are labeled as such?\n",
    "print(\"Precision:\",metrics.precision_score(y_test, y_pred))\n",
    "\n",
    "# Model Recall: what percentage of positive tuples are labelled as such?\n",
    "print(\"Recall:\",metrics.recall_score(y_test, y_pred))\n"
   ]
  },
  {
   "cell_type": "code",
   "execution_count": 21,
   "id": "monthly-following",
   "metadata": {},
   "outputs": [
    {
     "name": "stdout",
     "output_type": "stream",
     "text": [
      "AUC: 1.0\n"
     ]
    }
   ],
   "source": [
    "# calculate precision-recall curve\n",
    "precision, recall, thresholds = metrics.precision_recall_curve(y_test, y_pred)\n",
    "\n",
    "# calculate F1 score\n",
    "f1 = metrics.f1_score(y_test, y_pred)\n",
    "\n",
    "# calculate precision-recall AUC\n",
    "auc_score = metrics.auc(recall, precision)\n",
    "\n",
    "print(\"AUROC:\", auc_score)"
   ]
  },
  {
   "cell_type": "code",
   "execution_count": 22,
   "id": "formed-metro",
   "metadata": {},
   "outputs": [
    {
     "data": {
      "image/png": "[encoded data removed]",
      "text/plain": [
       "<Figure size 432x288 with 1 Axes>"
      ]
     },
     "metadata": {
      "needs_background": "light"
     },
     "output_type": "display_data"
    }
   ],
   "source": [
    "plt.plot(recall, precision, marker='.', label='PRC')\n",
    "\n",
    "# axis labels\n",
    "plt.xlabel('recall')\n",
    "plt.ylabel('precision')\n",
    " \n",
    "# show the legend\n",
    "plt.legend()\n",
    " \n",
    "# show the plot\n",
    "plt.show()"
   ]
  },
  {
   "cell_type": "code",
   "execution_count": 237,
   "id": "choice-township",
   "metadata": {},
   "outputs": [],
   "source": [
    "# https://lsjsj92.tistory.com/542"
   ]
  },
  {
   "cell_type": "code",
   "execution_count": 43,
   "id": "naughty-stadium",
   "metadata": {},
   "outputs": [
    {
     "name": "stdout",
     "output_type": "stream",
     "text": [
      "Fitting 5 folds for each of 8 candidates, totalling 40 fits\n"
     ]
    },
    {
     "data": {
      "text/plain": [
       "GridSearchCV(estimator=RandomForestClassifier(n_estimators=10), n_jobs=-1,\n",
       "             param_grid={'max_depth': [2, 3, 4, 5], 'n_estimators': [10, 50]},\n",
       "             scoring='accuracy', verbose=1)"
      ]
     },
     "execution_count": 43,
     "metadata": {},
     "output_type": "execute_result"
    }
   ],
   "source": []
  },
  {
   "cell_type": "code",
   "execution_count": 48,
   "id": "caroline-ottawa",
   "metadata": {},
   "outputs": [],
   "source": []
  },
  {
   "cell_type": "code",
   "execution_count": 49,
   "id": "brutal-electric",
   "metadata": {},
   "outputs": [
    {
     "name": "stdout",
     "output_type": "stream",
     "text": [
      "Accuracy: 0.875\n",
      "Precision: 1.0\n",
      "Recall: 0.4\n"
     ]
    }
   ],
   "source": []
  },
  {
   "cell_type": "code",
   "execution_count": 50,
   "id": "antique-challenge",
   "metadata": {},
   "outputs": [
    {
     "name": "stdout",
     "output_type": "stream",
     "text": [
      "AUC: 0.7625\n"
     ]
    }
   ],
   "source": []
  },
  {
   "cell_type": "code",
   "execution_count": 56,
   "id": "fifty-rover",
   "metadata": {},
   "outputs": [
    {
     "data": {
      "image/png": "[encoded data removed]",
      "text/plain": [
       "<Figure size 432x288 with 1 Axes>"
      ]
     },
     "metadata": {
      "needs_background": "light"
     },
     "output_type": "display_data"
    }
   ],
   "source": []
  },
  {
   "cell_type": "code",
   "execution_count": null,
   "id": "adjusted-terminology",
   "metadata": {},
   "outputs": [],
   "source": []
  }
 ],
 "metadata": {
  "kernelspec": {
   "display_name": "Python 3",
   "language": "python",
   "name": "python3"
  },
  "language_info": {
   "codemirror_mode": {
    "name": "ipython",
    "version": 3
   },
   "file_extension": ".py",
   "mimetype": "text/x-python",
   "name": "python",
   "nbconvert_exporter": "python",
   "pygments_lexer": "ipython3",
   "version": "3.6.9"
  }
 },
 "nbformat": 4,
 "nbformat_minor": 5
}
